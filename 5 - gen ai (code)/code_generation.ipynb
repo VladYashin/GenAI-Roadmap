{
 "cells": [
  {
   "cell_type": "markdown",
   "metadata": {},
   "source": [
    "# Code Generation\n",
    "\n",
    "With models like OpenAI Codex, which is an iteration of GPT-3, developers can generate functional code snippets based on natural language prompts.\n",
    "\n",
    "- **Example**: Generating Python code for sorting algorithms or JavaScript functions based on user requirements.\n",
    "\n",
    "## Table of Contents\n",
    "1. [Generate Python code](#generate-python-code)\n",
    "2. [Generate SQL query](#generate-sql-code)\n",
    "3. [Generate Bash code](#max-length-tokens)"
   ]
  },
  {
   "cell_type": "code",
   "execution_count": 1,
   "metadata": {},
   "outputs": [],
   "source": [
    "# Initial setup for Azure OpenAI API\n",
    "import os\n",
    "import openai\n",
    "from dotenv import load_dotenv\n",
    "\n",
    "# Load environment variables from .env file\n",
    "dotenv_path = os.path.join(os.path.dirname(os.getcwd()), '.env')  # Assumes .env is in the parent directory of your notebook\n",
    "load_dotenv(dotenv_path)\n",
    "\n",
    "# Access environment variables\n",
    "AZURE_OPENAI_API_KEY = os.environ.get('AZURE_OPENAI_KEY')\n",
    "AZURE_OPENAI_ENDPOINT = os.environ.get('AZURE_OPENAI_ENDPOINT')\n",
    "AZURE_OPENAI_VERSION = os.environ.get('AZURE_OPENAI_VERSION')\n",
    "\n",
    "openai.api_type = AZURE_OPENAI_VERSION\n",
    "openai.api_key = AZURE_OPENAI_API_KEY\n",
    "openai.api_base = AZURE_OPENAI_ENDPOINT\n",
    "openai.api_version = AZURE_OPENAI_VERSION # this may change in the future\n",
    "\n",
    "# Setting constant for text-davinci-003 model used, name of deployment in azure resource\n",
    "deployment_name = \"text-davinci-003\""
   ]
  },
  {
   "cell_type": "markdown",
   "metadata": {},
   "source": [
    "## Generate Python code"
   ]
  },
  {
   "cell_type": "code",
   "execution_count": 2,
   "metadata": {},
   "outputs": [],
   "source": [
    "# Load the prompts from the promptlibrary folder\n",
    "\n",
    "def load_prompts():\n",
    "    prompts = {}\n",
    "    for filename in os.listdir(\"promptlibrary\"):\n",
    "        with open(os.path.join(\"promptlibrary\", filename), \"r\") as f:\n",
    "            prompts[filename] = f.read()\n",
    "    return prompts\n",
    "\n",
    "# Function to call Azure OpenAI API with the prompt and return the response\n",
    "def call_openai(prompt, temperature=0.3, max_tokens=250):\n",
    "    response = openai.Completion.create(\n",
    "        engine = deployment_name,\n",
    "        prompt = prompt,\n",
    "        temperature = temperature,\n",
    "        max_tokens = max_tokens\n",
    "    )\n",
    "    return response.choices[0].text"
   ]
  },
  {
   "cell_type": "code",
   "execution_count": 3,
   "metadata": {},
   "outputs": [
    {
     "name": "stdout",
     "output_type": "stream",
     "text": [
      "dict_keys(['natural_language_sql.txt', 'python_code.txt'])\n"
     ]
    }
   ],
   "source": [
    "# Loading the prompts into a dictionary\n",
    "prompts = load_prompts()\n",
    "print(prompts.keys())"
   ]
  },
  {
   "cell_type": "markdown",
   "metadata": {},
   "source": [
    "## Generate SQL query"
   ]
  },
  {
   "cell_type": "code",
   "execution_count": 4,
   "metadata": {},
   "outputs": [
    {
     "name": "stdout",
     "output_type": "stream",
     "text": [
      " d.name \n",
      "FROM Department d \n",
      "INNER JOIN Employee e ON d.id = e.department_id \n",
      "INNER JOIN Salary_Payments sp ON e.id = sp.employee_id \n",
      "WHERE sp.date > NOW() - INTERVAL '3 months' \n",
      "GROUP BY d.name \n",
      "HAVING COUNT(e.id) > 10;\n"
     ]
    }
   ],
   "source": [
    "# Generated code from natural language prompt to SQL    \n",
    "sql_code = call_openai(prompts[\"natural_language_sql.txt\"], temperature=0.1, max_tokens=400)\n",
    "print(sql_code)"
   ]
  },
  {
   "cell_type": "code",
   "execution_count": 5,
   "metadata": {},
   "outputs": [
    {
     "name": "stdout",
     "output_type": "stream",
     "text": [
      "\n",
      "\n",
      "def reverse_string(string):\n",
      "  reversed_string = \"\"\n",
      "  for i in range(len(string)-1, -1, -1):\n",
      "    reversed_string += string[i]\n",
      "  return reversed_string\n",
      "\n",
      "print(reverse_string(\"abcd123\")) # 321dcba\n"
     ]
    }
   ],
   "source": [
    "# Generated code from natural language prompt to Python\n",
    "python_code = call_openai(prompts[\"python_code.txt\"], temperature=0.1, max_tokens=400)\n",
    "print(python_code)"
   ]
  },
  {
   "cell_type": "markdown",
   "metadata": {},
   "source": [
    "## Generate Bash code"
   ]
  },
  {
   "cell_type": "code",
   "execution_count": null,
   "metadata": {},
   "outputs": [],
   "source": [
    "# ToDo: Generate prompts, finalize & prepare notebook for deployment"
   ]
  }
 ],
 "metadata": {
  "kernelspec": {
   "display_name": "myenv",
   "language": "python",
   "name": "python3"
  },
  "language_info": {
   "codemirror_mode": {
    "name": "ipython",
    "version": 3
   },
   "file_extension": ".py",
   "mimetype": "text/x-python",
   "name": "python",
   "nbconvert_exporter": "python",
   "pygments_lexer": "ipython3",
   "version": "3.10.4"
  },
  "orig_nbformat": 4
 },
 "nbformat": 4,
 "nbformat_minor": 2
}
