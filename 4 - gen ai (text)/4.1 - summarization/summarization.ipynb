{
 "cells": [
  {
   "cell_type": "markdown",
   "metadata": {},
   "source": [
    "## Summarization\n",
    "\n",
    "Summarization is the process of shortening a text document or dataset into a concise version that retains the most important information. This can be useful for quickly understanding the content of longer documents, or for generating summaries of large datasets for easier consumption. There are two main approaches to summarization: extractive and abstractive."
   ]
  },
  {
   "cell_type": "code",
   "execution_count": 1,
   "metadata": {},
   "outputs": [],
   "source": [
    "# Initial setup for Azure OpenAI API\n",
    "import os\n",
    "import openai\n",
    "from dotenv import load_dotenv\n",
    "\n",
    "# Load environment variables from .env file\n",
    "dotenv_path = os.path.join(os.path.dirname(os.getcwd()), '.env')  # Assumes .env is in the parent directory of your notebook\n",
    "load_dotenv(dotenv_path)\n",
    "\n",
    "# Access environment variables\n",
    "AZURE_OPENAI_API_KEY = os.environ.get('AZURE_OPENAI_KEY')\n",
    "AZURE_OPENAI_ENDPOINT = os.environ.get('AZURE_OPENAI_ENDPOINT')\n",
    "AZURE_OPENAI_VERSION = os.environ.get('AZURE_OPENAI_VERSION')\n",
    "\n",
    "openai.api_type = AZURE_OPENAI_VERSION\n",
    "openai.api_key = AZURE_OPENAI_API_KEY\n",
    "openai.api_base = AZURE_OPENAI_ENDPOINT\n",
    "openai.api_version = AZURE_OPENAI_VERSION # this may change in the future\n",
    "\n",
    "# Setting constant for text-davinci-003 model used, name of deployment in azure resource\n",
    "deployment_name = \"text-davinci-003\""
   ]
  },
  {
   "cell_type": "markdown",
   "metadata": {},
   "source": [
    "### 1. Extractive Summarization\n",
    "Extractive summarization involves selecting whole sentences or phrases directly from the source document to form the summary. This method essentially \"extracts\" the most relevant parts of the original content without altering the wording. The challenge here is to identify which sentences or parts are the most informative and relevant to the main idea of the document."
   ]
  },
  {
   "cell_type": "code",
   "execution_count": 2,
   "metadata": {},
   "outputs": [
    {
     "name": "stdout",
     "output_type": "stream",
     "text": [
      "Below is an extract from the annual financial report of a company. Extract key financial number (if present), key internal risk factors, and key external risk factors. \n",
      "\n",
      "# Start of Report \n",
      "Revenue increased $7.5 billion or 16%. Commercial products and cloud services revenue increased $4.0 billion or 13%. O365 Commercial revenue grew 22% driven by seat growth of 17% and higher revenue per user. Office Consumer products and cloud services revenue increased $474 million or 10% driven by Consumer subscription revenue, on a strong prior year comparable that benefited from transactional strength in Japan. Gross margin increased $6.5 billion or 18% driven by the change in estimated useful lives of our server and network equipment. \n",
      "Our competitors range in size from diversified global companies with significant research and development resources to small, specialized firms whose narrower product lines may let them be more effective in deploying technical, marketing, and financial resources. Barriers to entry in many of our businesses are low and many of the areas in which we compete evolve rapidly with changing and disruptive technologies, shifting user needs, and frequent introductions of new products and services. Our ability to remain competitive depends on our success in making innovative products, devices, and services that appeal to businesses and consumers.\n",
      "\n",
      "# End of Report \n",
      "\n",
      "Summary: \n",
      "\n"
     ]
    }
   ],
   "source": [
    "## select the prompt to use\n",
    "with open('promptlibrary/extractive_summary.txt', 'r') as file:\n",
    "    prompt_extractive_summary = file.read()\n",
    "\n",
    "\n",
    "# Open the file with the text to summarize\n",
    "with open('./data/financial.txt', 'r') as file:\n",
    "    text_to_summarize = file.read()\n",
    "\n",
    "\n",
    "\n",
    "# full prompt\n",
    "final_extr_prompt = f\"{prompt_extractive_summary} \\n\\n# Start of Report \\n{text_to_summarize}\\n# End of Report \\n\\nSummary: \\n\"\n",
    "print(final_extr_prompt)"
   ]
  },
  {
   "cell_type": "code",
   "execution_count": 3,
   "metadata": {},
   "outputs": [
    {
     "name": "stdout",
     "output_type": "stream",
     "text": [
      "Key Financial Number: $7.5 billion revenue increase, $4.0 billion increase in commercial products and cloud services revenue, $474 million increase in Office Consumer products and cloud services revenue, $6.5 billion increase in gross margin. \n",
      "Key Internal Risk Factors: Competitors range in size from diversified global companies to small, specialized firms, low barriers to entry in many of our businesses, need to remain competitive by making innovative products, devices, and services. \n",
      "Key External Risk Factors: Evolving technologies, shifting user needs, frequent introductions of new products and services.\n"
     ]
    }
   ],
   "source": [
    "response = openai.Completion.create(\n",
    "        engine = deployment_name,\n",
    "        prompt = final_extr_prompt,\n",
    "        temperature = 0.3,\n",
    "        max_tokens = 250\n",
    "    )\n",
    "\n",
    "print(response.choices[0].text)"
   ]
  },
  {
   "cell_type": "markdown",
   "metadata": {},
   "source": [
    "### 2. Abstractive Summarization\n",
    "Abstractive summarization, on the other hand, involves generating new sentences that convey the main information from the original document. Instead of just copying parts of the source content, abstractive methods aim to understand the content and then \"rephrase\" or \"rewrite\" it in a more condensed form. This approach can lead to more natural-sounding summaries but requires more advanced natural language processing capabilities."
   ]
  },
  {
   "cell_type": "code",
   "execution_count": 5,
   "metadata": {},
   "outputs": [
    {
     "name": "stdout",
     "output_type": "stream",
     "text": [
      "Provide a summary of the text below that captures its main idea. \n",
      "\n",
      "# Start of Report\n",
      "\n",
      "At Microsoft, we have been on a quest to advance AI beyond existing techniques, by taking a more holistic, human-centric approach to learning and understanding. As Chief Technology Officer of Azure AI Cognitive Services, I have been working with a team of amazing scientists and engineers to turn this quest into a reality. In my role, I enjoy a unique perspective in viewing the relationship among three attributes of human cognition: monolingual text (X), audio or visual sensory signals, (Y) and multilingual (Z). At the intersection of all three, thereâ€™s magicâ€”what we call XYZ-code as illustrated in Figure 1â€”a joint representation to create more powerful AI that can speak, hear, see, and understand humans better. We believe XYZ-code will enable us to fulfill our long-term vision: cross-domain transfer learning, spanning modalities and languages. The goal is to have pre-trained models that can jointly learn representations to support a broad range of downstream AI tasks, much in the way humans do today. Over the past five years, we have achieved human performance on benchmarks in conversational speech recognition, machine translation, conversational question answering, machine reading comprehension, and image captioning. These five breakthroughs provided us with strong signals toward our more ambitious aspiration to produce a leap in AI capabilities, achieving multi-sensory and multilingual learning that is closer in line with how humans learn and understand. I believe the joint XYZ-code is a foundational component of this aspiration, if grounded with external knowledge sources in the downstream AI tasks.\n",
      "# End of Report \n",
      "\n",
      "Summary: \n",
      "\n"
     ]
    }
   ],
   "source": [
    "# Select the prompt to use\n",
    "with open('promptlibrary/abstractive_summary.txt', 'r') as file:\n",
    "    prompt_abstractive_summary = file.read()\n",
    "\n",
    "# Open the file with the text to summarize\n",
    "with open('./data/microsoft.txt', 'r') as file:\n",
    "    text_to_summarize = file.read()\n",
    "\n",
    "\n",
    "# full prompt\n",
    "final_abs_prompt = f\"{prompt_abstractive_summary} \\n\\n# Start of Report\\n{text_to_summarize}\\n# End of Report \\n\\nSummary: \\n\"\n",
    "print(final_abs_prompt)"
   ]
  },
  {
   "cell_type": "code",
   "execution_count": 6,
   "metadata": {},
   "outputs": [
    {
     "name": "stdout",
     "output_type": "stream",
     "text": [
      "Microsoft is working to advance AI by taking a more holistic, human-centric approach to learning and understanding. This approach, called XYZ-code, is a joint representation of monolingual text, audio or visual sensory signals, and multilingual signals. Over the past five years, Microsoft has achieved human performance on various AI tasks, and they believe XYZ-code will enable them to achieve a leap in AI capabilities that is closer to how humans learn and understand.\n"
     ]
    }
   ],
   "source": [
    "response = openai.Completion.create(\n",
    "        engine = deployment_name,\n",
    "        prompt = final_abs_prompt,\n",
    "        temperature = 0.3,\n",
    "        max_tokens = 250\n",
    "    )\n",
    "\n",
    "print(response.choices[0].text)"
   ]
  },
  {
   "cell_type": "code",
   "execution_count": null,
   "metadata": {},
   "outputs": [],
   "source": []
  }
 ],
 "metadata": {
  "kernelspec": {
   "display_name": "myenv",
   "language": "python",
   "name": "python3"
  },
  "language_info": {
   "codemirror_mode": {
    "name": "ipython",
    "version": 3
   },
   "file_extension": ".py",
   "mimetype": "text/x-python",
   "name": "python",
   "nbconvert_exporter": "python",
   "pygments_lexer": "ipython3",
   "version": "3.11.3"
  },
  "orig_nbformat": 4
 },
 "nbformat": 4,
 "nbformat_minor": 2
}
