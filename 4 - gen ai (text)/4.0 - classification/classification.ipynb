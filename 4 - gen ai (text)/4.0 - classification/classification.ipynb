{
 "cells": [
  {
   "cell_type": "markdown",
   "metadata": {},
   "source": [
    "## Classification of Data with OpenAI\n",
    "\n",
    "With OpenAI, you can employ models like GPT and its iterations to classify data based on textual patterns or descriptions. \n",
    "\n",
    "- **Example**: Using models to categorize product reviews into positive, neutral, and negative classes."
   ]
  },
  {
   "cell_type": "code",
   "execution_count": 1,
   "metadata": {},
   "outputs": [],
   "source": [
    "# Initial setup for Azure OpenAI API\n",
    "import os\n",
    "import openai\n",
    "from dotenv import load_dotenv\n",
    "\n",
    "# Load environment variables from .env file\n",
    "dotenv_path = os.path.join(os.path.dirname(os.getcwd()), '.env')  # Assumes .env is in the parent directory of your notebook\n",
    "load_dotenv(dotenv_path)\n",
    "\n",
    "# Access environment variables\n",
    "AZURE_OPENAI_API_KEY = os.environ.get('AZURE_OPENAI_KEY')\n",
    "AZURE_OPENAI_ENDPOINT = os.environ.get('AZURE_OPENAI_ENDPOINT')\n",
    "AZURE_OPENAI_VERSION = \"2022-12-01\"\n",
    "\n",
    "# Set OpenAI API configuration\n",
    "openai.api_type = \"azure\"\n",
    "openai.api_key = AZURE_OPENAI_API_KEY\n",
    "openai.api_base = AZURE_OPENAI_ENDPOINT\n",
    "openai.api_version = AZURE_OPENAI_VERSION # this may change in the future\n",
    "\n",
    "# Setting constant for text-davinci-003 model used, name of deployment in azure resource\n",
    "deployment_name = \"text-davinci-003\""
   ]
  },
  {
   "cell_type": "code",
   "execution_count": 3,
   "metadata": {},
   "outputs": [],
   "source": [
    "# Load the prompts from the promptlibrary folder\n",
    "def load_prompts():\n",
    "    prompts = {}\n",
    "    for filename in os.listdir(\"promptlibrary\"):\n",
    "        with open(os.path.join(\"promptlibrary\", filename), \"r\") as f:\n",
    "            prompts[filename] = f.read()\n",
    "    return prompts\n",
    "\n",
    "# Loading the prompts into a dictionary\n",
    "prompts = load_prompts()"
   ]
  },
  {
   "cell_type": "code",
   "execution_count": 4,
   "metadata": {},
   "outputs": [
    {
     "name": "stdout",
     "output_type": "stream",
     "text": [
      "\n",
      "Department: Books\n",
      "Order intent: Refund\n"
     ]
    }
   ],
   "source": [
    "# Function to classify the intent of a user input\n",
    "response_intent = openai.Completion.create(\n",
    "        engine = deployment_name,\n",
    "        prompt = prompts['classify_intent.txt'],\n",
    "        temperature = 0.3,\n",
    "        max_tokens = 250\n",
    "    )\n",
    "\n",
    "print(response_intent.choices[0].text)"
   ]
  },
  {
   "cell_type": "code",
   "execution_count": 5,
   "metadata": {},
   "outputs": [
    {
     "name": "stdout",
     "output_type": "stream",
     "text": [
      " Business\n"
     ]
    }
   ],
   "source": [
    "\n",
    "response_text = openai.Completion.create(\n",
    "        engine = deployment_name,\n",
    "        prompt = prompts['classify_text.txt'],\n",
    "        temperature = 0.3,\n",
    "        max_tokens = 250\n",
    "    )\n",
    "\n",
    "print(response_text.choices[0].text)"
   ]
  },
  {
   "cell_type": "code",
   "execution_count": null,
   "metadata": {},
   "outputs": [],
   "source": []
  }
 ],
 "metadata": {
  "kernelspec": {
   "display_name": "myenv",
   "language": "python",
   "name": "python3"
  },
  "language_info": {
   "codemirror_mode": {
    "name": "ipython",
    "version": 3
   },
   "file_extension": ".py",
   "mimetype": "text/x-python",
   "name": "python",
   "nbconvert_exporter": "python",
   "pygments_lexer": "ipython3",
   "version": "3.10.4"
  },
  "orig_nbformat": 4
 },
 "nbformat": 4,
 "nbformat_minor": 2
}
