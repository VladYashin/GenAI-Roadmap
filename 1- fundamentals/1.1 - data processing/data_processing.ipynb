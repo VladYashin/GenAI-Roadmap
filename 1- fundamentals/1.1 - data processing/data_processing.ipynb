{
 "cells": [
  {
   "cell_type": "markdown",
   "metadata": {},
   "source": [
    "# Data Processing\n",
    "\n",
    "Data is the lifeblood of modern businesses and organizations. \n",
    "\n",
    "## Table of Contents\n",
    "   1. [Text](#text)\n",
    "   2. [DOCX](#docx)\n",
    "   3. [PDF](#pdf)\n",
    "   4. [Excel](#excel)\n",
    "   5. [PPT](#ppt)\n",
    "   6. [Image](#image) \n",
    "   7. [json](#json)"
   ]
  },
  {
   "cell_type": "code",
   "execution_count": 44,
   "metadata": {},
   "outputs": [],
   "source": [
    "# Import modules\n",
    "\n",
    "import os\n",
    "from docx import Document # For DOCX processing"
   ]
  },
  {
   "cell_type": "markdown",
   "metadata": {},
   "source": [
    "### Text\n",
    "Plain text format, the most basic format for text data. It is a simple text file with no formatting or metadata. It is the most common format for text data and is used in most NLP tasks."
   ]
  },
  {
   "cell_type": "code",
   "execution_count": 43,
   "metadata": {},
   "outputs": [
    {
     "name": "stdout",
     "output_type": "stream",
     "text": [
      "Best Practices for Auditing a Model\n",
      "When modeling, I encourage you to always bear this single question at the back of your mind: “Am I making this model easily auditable?” because for every task executed, formula created, and link built, there will always be a faster, “dirtier” (in industry parlance\n"
     ]
    }
   ],
   "source": [
    "# Read TXT file\n",
    "\n",
    "current_directory = os.getcwd()\n",
    "parent_folder = os.path.abspath(os.path.join(current_directory, '..', '..'))\n",
    "txt_path = parent_folder + '/data/model_audit.txt'\n",
    "\n",
    "with open(txt_path, 'r', encoding='utf-8') as file:\n",
    "    data_txt = file.read()\n",
    "\n",
    "print(data_txt[:300])"
   ]
  },
  {
   "cell_type": "markdown",
   "metadata": {},
   "source": [
    "### DOCX\n",
    "Word processing format used for document creation. It is a proprietary format developed by Microsoft and is the most common format for word processing. It is a binary file format and is not human-readable."
   ]
  },
  {
   "cell_type": "code",
   "execution_count": 50,
   "metadata": {},
   "outputs": [
    {
     "name": "stdout",
     "output_type": "stream",
     "text": [
      "\n",
      "\n",
      "\n",
      "\n",
      "Artificial Intelligence and the Future of Teaching and Learning\n",
      "Insights and Recommendations\n",
      "May 2023\n",
      "\n",
      "Artificial Intelligence and the Future of Teaching and Learning\n",
      "Miguel A. Cardona, Ed.D.\n",
      "Secretary, U.S. Department of Education\n",
      "Roberto J. Rodríguez\n",
      "Assistant Secretary, Office of Planning, Evaluation, and Policy Development\n",
      "Kristina Ishmael\n",
      "Deputy Director, Office of Educational Technology May 2023\n",
      "Examples Are Not Endorsements\n",
      "This document contains examples and resource materials that a\n"
     ]
    }
   ],
   "source": [
    "# Read DOCX file\n",
    "\n",
    "docx_path = parent_folder + '/data/ai-report.docx'\n",
    "\n",
    "doc = Document(docx_path)\n",
    "data_docx = '\\n'.join([paragraph.text for paragraph in doc.paragraphs])\n",
    "\n",
    "print(data_docx[:500])"
   ]
  },
  {
   "cell_type": "markdown",
   "metadata": {},
   "source": [
    "### PDF\n",
    "Portable Document Format, a standard for document sharing. It is a proprietary format developed by Adobe and is the most common format for document sharing. It is a binary file format and is not human-readable. "
   ]
  },
  {
   "cell_type": "code",
   "execution_count": 3,
   "metadata": {},
   "outputs": [
    {
     "name": "stdout",
     "output_type": "stream",
     "text": [
      "AI Strategy\n",
      "Setting up and sustaining AI success in uncertain times\n",
      "\n",
      "\fAI Strategy\n",
      "\n",
      "Executive Summary\n",
      "Rethink AI strategy for resilience and \n",
      "business results in uncertain times\n",
      "\n",
      "AI strategy is the ability to set and communicate a \n",
      "vision, define a roadmap, and build a business case \n",
      "for how artificial intelligence will be used over time \n",
      "at an organizational level. This includes the levels of \n",
      "leadership engagement required to create sustainable \n",
      "AI within the organization and ROI for the busine\n"
     ]
    }
   ],
   "source": [
    "from pdfminer.high_level import extract_text\n",
    "\n",
    "def extract_text_from_pdf(pdf_path):\n",
    "    return extract_text(pdf_path)\n",
    "\n",
    "pdf_path = './data/setting-up-and-sustaining-ai-success.pdf'\n",
    "data_pdf = extract_text_from_pdf(pdf_path)\n",
    "print(data_pdf[:500])"
   ]
  },
  {
   "cell_type": "markdown",
   "metadata": {},
   "source": [
    "\n",
    "### Excel\n",
    "Spreadsheet format for tabular data and calculations."
   ]
  },
  {
   "cell_type": "code",
   "execution_count": 4,
   "metadata": {},
   "outputs": [
    {
     "name": "stdout",
     "output_type": "stream",
     "text": [
      "        Date  Temperature (C)  Humidity (%)  Precipitation (mm)   \n",
      "0 2022-01-01        29.565708            75            8.408121  \\\n",
      "1 2022-01-02        27.412771            75            4.755401   \n",
      "2 2022-01-03        -9.296075            47            5.929933   \n",
      "3 2022-01-04        10.167161            38            7.858446   \n",
      "4 2022-01-05        -7.061943            40            5.544814   \n",
      "\n",
      "   Wind Speed (km/h)  \n",
      "0                 13  \n",
      "1                 19  \n",
      "2                  7  \n",
      "3                  9  \n",
      "4                 11  \n"
     ]
    }
   ],
   "source": [
    "import pandas as pd\n",
    "\n",
    "data = pd.read_excel(\"./data/weather_data_2022.xlsx\")\n",
    "print(data.head())"
   ]
  },
  {
   "cell_type": "markdown",
   "metadata": {},
   "source": [
    "### PPT\n",
    "Presentation format for slideshows."
   ]
  },
  {
   "cell_type": "code",
   "execution_count": 5,
   "metadata": {},
   "outputs": [
    {
     "name": "stdout",
     "output_type": "stream",
     "text": [
      "Capability overview of Azure OpenAI\n",
      "Completion\n",
      "Capability overview of Azure OpenAI\n",
      "Embeddings\n",
      "\n"
     ]
    }
   ],
   "source": [
    "from pptx import Presentation\n",
    "\n",
    "def extract_text_from_ppt(ppt_path):\n",
    "    prs = Presentation(ppt_path)\n",
    "    text = \"\"\n",
    "    for slide in prs.slides:\n",
    "        for shape in slide.shapes:\n",
    "            if hasattr(shape, \"text\"):\n",
    "                text += shape.text + \"\\n\"\n",
    "    return text\n",
    "\n",
    "ppt_path = './data/capabilityAzureOpenAI.pptx'\n",
    "data_ppt = extract_text_from_ppt(ppt_path)\n",
    "print(data_ppt)\n"
   ]
  },
  {
   "cell_type": "markdown",
   "metadata": {},
   "source": [
    "### Image\n",
    "Image format for visual data which could be png, jpg, jpeg etc. For the image OCR part using Tesseract and its Python wrapper pytesseract, you'll need to install both the Tesseract OCR software and the pytesseract Python package. Additionally, the Pillow package is necessary for image processing.\n",
    "\n",
    "1. Tesseract OCR Software Installation:\n",
    "    - Ubuntu/Debian:\n",
    "        ```bash\t\n",
    "        sudo apt-get install tesseract-ocr\n",
    "        ```\n",
    "    - Windows:\n",
    "        Download the binary from [Github](https://github.com/UB-Mannheim/tesseract/wiki) and install it. After installation, ensure the path to Tesseract is in your system's PATH or provide the path explicitly in your Python code.\n",
    "\n",
    "    - MacOS:\n",
    "\n",
    "        bash\n",
    "        ```bash\t\n",
    "        brew install tesseract\n",
    "        ```\n",
    "2. Python Packages Installation:\n",
    "    You can install the required Python packages using pip:\n",
    "    ```bash\t\n",
    "    % pip install pytesseract Pillow\n",
    "    ```\n",
    "After these installations, you should be set up to perform OCR on images."
   ]
  },
  {
   "cell_type": "code",
   "execution_count": 6,
   "metadata": {},
   "outputs": [
    {
     "name": "stdout",
     "output_type": "stream",
     "text": [
      "THE FIVE COMMANDMENTS OF ENTERPRISE Al ADOPTION\n",
      "\n",
      "CONSTRUCT DRIVE A CHANGE STRUCTURES FOCUS ON\n",
      "A ROBUST DATA-CENTRIC AND CULTURE TO BUSINESS AND SCALE AT SPEED\n",
      "Al STRATEGY ENTERPRISE IMPROVE ADOPTION HUMAN CENTRICITY\n",
      "\n",
      " _— —— —— —_—__\n",
      "Build an Al strategy Assess data Make necessary Contextualize Al Leverage CoEs\n",
      "that supports your complexities operating model projects with and the partner\n",
      "business strategy and define a changes to drive organizational goals ecosystem to\n",
      "andlinvaescs path to becoming enterprise-wide to evaluate ROI and jumpstart and\n",
      "existing IT a data-centric adoption business impact ease adoption\n",
      "capabilities enter se.\n",
      "\n",
      "*\n",
      "Source: Everest Group | Infographic design by Antonio Grasso hettaloghy deltalogix.blog\n",
      "\n"
     ]
    }
   ],
   "source": [
    "from PIL import Image\n",
    "import pytesseract\n",
    "\n",
    "def ocr_from_image(image_path):\n",
    "    image = Image.open(image_path)\n",
    "    text = pytesseract.image_to_string(image)\n",
    "    return text\n",
    "\n",
    "image_path = './data/ai-adoption.png'\n",
    "extracted_text = ocr_from_image(image_path)\n",
    "print(extracted_text)"
   ]
  },
  {
   "cell_type": "code",
   "execution_count": 7,
   "metadata": {},
   "outputs": [
    {
     "name": "stdout",
     "output_type": "stream",
     "text": [
      "\n",
      "This infographic provides five commandments for successful enterprise Al adoption. These include building an Al strategy that supports the business strategy, assessing data complexities, making necessary operating model changes, contextualizing Al projects with organizational goals, and leveraging CoEs and the partner ecosystem to evaluate ROI and ease adoption. These steps will help organizations become data-centric and improve their Al adoption.\n"
     ]
    }
   ],
   "source": [
    "# Initial setup for Azure OpenAI API\n",
    "import os\n",
    "import openai\n",
    "from dotenv import load_dotenv\n",
    "\n",
    "# Load environment variables from .env file\n",
    "dotenv_path = os.path.join(os.path.dirname(os.getcwd()), '.env')  # Assumes .env is in the parent directory of your notebook\n",
    "load_dotenv(dotenv_path)\n",
    "\n",
    "# Access environment variables\n",
    "AZURE_OPENAI_API_KEY = os.environ.get('AZURE_OPENAI_KEY')\n",
    "AZURE_OPENAI_ENDPOINT = os.environ.get('AZURE_OPENAI_ENDPOINT')\n",
    "AZURE_OPENAI_VERSION = \"2022-12-01\"\n",
    "\n",
    "# Set OpenAI API configuration\n",
    "openai.api_type = \"azure\"\n",
    "openai.api_key = AZURE_OPENAI_API_KEY\n",
    "openai.api_base = AZURE_OPENAI_ENDPOINT\n",
    "openai.api_version = AZURE_OPENAI_VERSION # this may change in the future\n",
    "\n",
    "# Setting constant for text-davinci-003 model used, name of deployment in azure resource\n",
    "deployment_name = \"text-davinci-003\"\n",
    "\n",
    "prompt_image = \"Explain in detail with proper formatting and summarize the extracted text from OCR on the image.\\n\\nExtracted Text:\\n\" + extracted_text + \"\\n\\nSummary:\"\n",
    "response = openai.Completion.create(\n",
    "        engine = deployment_name,\n",
    "        prompt = prompt_image,\n",
    "        temperature = 0.2,\n",
    "        max_tokens = 800\n",
    "    )\n",
    "\n",
    "print(response.choices[0].text)"
   ]
  },
  {
   "cell_type": "markdown",
   "metadata": {},
   "source": [
    "### json\n",
    "JavaScript Object Notation, a standard for data interchange. It is a text-based format and is human-readable."
   ]
  },
  {
   "cell_type": "code",
   "execution_count": 8,
   "metadata": {},
   "outputs": [
    {
     "name": "stdout",
     "output_type": "stream",
     "text": [
      "[\n",
      "    {\n",
      "        \"Title\": \"Inception\",\n",
      "        \"Year\": 2010,\n",
      "        \"Genre\": \"Science Fiction\",\n",
      "        \"Director\": \"Christopher Nolan\",\n",
      "        \"Rating\": 8.8\n",
      "    },\n",
      "    {\n",
      "        \"Title\": \"The Shawshank Redemption\",\n",
      "        \"Year\": 1994,\n",
      "        \"Genre\": \"Drama\",\n",
      "        \"Director\": \"Frank Darabont\",\n",
      "        \"Rating\": 9.3\n",
      "    },\n",
      "    {\n",
      "        \"Title\": \"The Dark Knight\",\n",
      "        \"Year\": 2008,\n",
      "        \"Genre\": \"Action\",\n",
      "        \"Director\": \"Christopher Nolan\",\n",
      "        \"Rating\": 9.0\n",
      "    },\n",
      "    {\n",
      "        \"Title\": \"Pulp Fiction\",\n",
      "        \"Year\": 1994,\n",
      "        \"Genre\": \"Crime\",\n",
      "        \"Director\": \"Quentin Tarantino\",\n",
      "        \"Rating\": 8.9\n",
      "    },\n",
      "    {\n",
      "        \"Title\": \"The Godfather\",\n",
      "        \"Year\": 1972,\n",
      "        \"Genre\": \"Crime\",\n",
      "        \"Director\": \"Francis Ford Coppola\",\n",
      "        \"Rating\": 9.2\n",
      "    },\n",
      "    {\n",
      "        \"Title\": \"Forrest Gump\",\n",
      "        \"Year\": 1994,\n",
      "        \"Genre\": \"Drama\",\n",
      "        \"Director\": \"Robert Zemeckis\",\n",
      "        \"Rating\": 8.8\n",
      "    },\n",
      "    {\n",
      "        \"Title\": \"The Matrix\",\n",
      "        \"Year\": 1999,\n",
      "        \"Genre\": \"Science Fiction\",\n",
      "        \"Director\": \"Lana Wachowski, Lilly Wachowski\",\n",
      "        \"Rating\": 8.7\n",
      "    },\n",
      "    {\n",
      "        \"Title\": \"Jurassic Park\",\n",
      "        \"Year\": 1993,\n",
      "        \"Genre\": \"Adventure\",\n",
      "        \"Director\": \"Steven Spielberg\",\n",
      "        \"Rating\": 8.1\n",
      "    },\n",
      "    {\n",
      "        \"Title\": \"Avatar\",\n",
      "        \"Year\": 2009,\n",
      "        \"Genre\": \"Action\",\n",
      "        \"Director\": \"James Cameron\",\n",
      "        \"Rating\": 7.8\n",
      "    },\n",
      "    {\n",
      "        \"Title\": \"The Lord of the Rings: The Fellowship of the Ring\",\n",
      "        \"Year\": 2001,\n",
      "        \"Genre\": \"Fantasy\",\n",
      "        \"Director\": \"Peter Jackson\",\n",
      "        \"Rating\": 8.8\n",
      "    }\n",
      "]\n"
     ]
    }
   ],
   "source": [
    "import json\n",
    "\n",
    "def extract_data_from_json(json_path):\n",
    "    with open(json_path, 'r') as json_file:\n",
    "        data = json.load(json_file)\n",
    "    return data\n",
    "\n",
    "json_path = './data/movies.json'\n",
    "data = extract_data_from_json(json_path)\n",
    "\n",
    "# Pretty print the extracted JSON data\n",
    "data_json = json.dumps(data, indent=4)\n",
    "print(data_json)\n"
   ]
  },
  {
   "cell_type": "markdown",
   "metadata": {},
   "source": [
    "## Conclusion and Further Reading"
   ]
  },
  {
   "cell_type": "code",
   "execution_count": null,
   "metadata": {},
   "outputs": [],
   "source": []
  }
 ],
 "metadata": {
  "kernelspec": {
   "display_name": "myenv",
   "language": "python",
   "name": "python3"
  },
  "language_info": {
   "codemirror_mode": {
    "name": "ipython",
    "version": 3
   },
   "file_extension": ".py",
   "mimetype": "text/x-python",
   "name": "python",
   "nbconvert_exporter": "python",
   "pygments_lexer": "ipython3",
   "version": "3.11.3"
  },
  "orig_nbformat": 4
 },
 "nbformat": 4,
 "nbformat_minor": 2
}
