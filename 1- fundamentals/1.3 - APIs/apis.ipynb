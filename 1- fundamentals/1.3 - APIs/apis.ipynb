{
 "cells": [
  {
   "cell_type": "markdown",
   "metadata": {},
   "source": [
    "# APIs\n",
    "\n",
    "Let's make your first API call! In order to send your first HTTP request to the Azure OpenAI API, we'll do the following: \n",
    "\n",
    "**1. Import necessary libraries**\n",
    "\n",
    "**2. Load environment variables from a .env file** \n",
    "\n",
    "**3. Access environmental variables stored in the .env file**\n",
    "\n",
    "**4. Set the URL for the API request**\n",
    "\n",
    "**5. Define the data payload**\n",
    "\n",
    "**6. Make an HTTP POST request to the Azure OpenAI API**"
   ]
  },
  {
   "cell_type": "code",
   "execution_count": 6,
   "metadata": {},
   "outputs": [
    {
     "name": "stdout",
     "output_type": "stream",
     "text": [
      "4efe7539a7ce40ce982921acdbd2337b\n"
     ]
    }
   ],
   "source": [
    "# Import necessary libraries\n",
    "import requests\n",
    "import json\n",
    "import os\n",
    "from dotenv import load_dotenv\n",
    "\n",
    "# Load environment variables from the .env file\n",
    "load_dotenv()\n",
    "\n",
    "# Access environmental variables stored in your .env file.\n",
    "AZURE_OPENAI_API_KEY = os.environ.get('AZURE_OPENAI_API_KEY')\n",
    "AZURE_OPENAI_ENDPOINT = os.environ.get('AZURE_OPENAI_ENDPOINT')\n",
    "AZURE_OPENAI_VERSION = os.environ.get('AZURE_OPENAI_VERSION')\n",
    "AZURE_OPENAI_DEPLOYMENT_NAME = os.environ.get('AZURE_OPENAI_DEPLOYMENT_NAME')\n",
    "\n",
    "\n",
    "print(AZURE_OPENAI_API_KEY)"
   ]
  },
  {
   "cell_type": "code",
   "execution_count": 9,
   "metadata": {},
   "outputs": [
    {
     "name": "stdout",
     "output_type": "stream",
     "text": [
      "\n",
      "\n",
      "1. \"Pigeons with Passion!\"\n",
      "2. \"The Flock to Fly With!\"\n",
      "3. \"Your Go-to Pigeon Spot!\"\n"
     ]
    }
   ],
   "source": [
    "# Set the URL for the API request\n",
    "# Note: the endpoint is different for the Azure OpenAI API for REST API calls when compared to the OpenAI API!\n",
    "url = f'{AZURE_OPENAI_ENDPOINT}/openai/deployments/{AZURE_OPENAI_DEPLOYMENT_NAME}/completions?api-version={AZURE_OPENAI_VERSION}'\n",
    "headers = {\n",
    "    'Content-Type': 'application/json',\n",
    "    'api-key': AZURE_OPENAI_API_KEY,\n",
    "}\n",
    "\n",
    "prompt = 'Suggest 3 punchy taglines for a pigeon shop: '\n",
    "\n",
    "# Define the data payload\n",
    "data = {\n",
    "    \"prompt\": prompt,\n",
    "    \"max_tokens\": 150,\n",
    "    \"temperature\": 0.5\n",
    "}\n",
    "\n",
    "# Make an HTTP POST request to the Azure OpenAI API\n",
    "response = requests.post(url, headers=headers, data=json.dumps(data))\n",
    "\n",
    "print(response.json()['choices'][0]['text'])"
   ]
  },
  {
   "cell_type": "markdown",
   "metadata": {},
   "source": [
    "# Practice\n",
    "\n",
    "In order to practice in making API requests & handling API responses - try the following APIs:\n",
    "\n",
    "- **Weather API**:\n",
    "Use a weather API (e.g., [OpenWeatherMap](https://openweathermap.org/api), [WeatherStack](https://weatherstack.com/)) to fetch and display current weather information for a specific location.\n",
    "\n",
    "- **News API**:\n",
    "Utilize a news API (e.g., [NewsAPI](https://newsapi.org/), [New York Times API](https://developer.nytimes.com/)) to fetch the latest news articles on a particular topic or from a specific news source.\n",
    "\n",
    "- **Currency Exchange Rate API**:\n",
    "Work with a currency exchange rate API (e.g., [ExchangeRatesAPI](https://www.exchangerate-api.com/)) to convert between different currencies and get exchange rate data.\n",
    "\n",
    "- **Random Joke Generator API**:\n",
    "Find a random joke generator API (e.g., [DadJokes API](https://rapidapi.com/KegenGuyll/api/dad-jokes)) to fetch and display jokes or humorous content.\n",
    "\n",
    "- **GitHub API**:\n",
    "Explore the [GitHub API](https://docs.github.com/en/rest?apiVersion=2022-11-28) to interact with repositories, retrieve user information, or even create a simple GitHub profile viewer."
   ]
  },
  {
   "cell_type": "code",
   "execution_count": 10,
   "metadata": {},
   "outputs": [],
   "source": [
    "# Write your code here..."
   ]
  }
 ],
 "metadata": {
  "kernelspec": {
   "display_name": ".venv",
   "language": "python",
   "name": "python3"
  },
  "language_info": {
   "codemirror_mode": {
    "name": "ipython",
    "version": 3
   },
   "file_extension": ".py",
   "mimetype": "text/x-python",
   "name": "python",
   "nbconvert_exporter": "python",
   "pygments_lexer": "ipython3",
   "version": "3.11.3"
  },
  "orig_nbformat": 4
 },
 "nbformat": 4,
 "nbformat_minor": 2
}
