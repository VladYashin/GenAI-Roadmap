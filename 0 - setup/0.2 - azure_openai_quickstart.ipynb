{
 "cells": [
  {
   "cell_type": "markdown",
   "metadata": {},
   "source": [
    "# Azure OpenAI Quickstart\n",
    "\n",
    "To communicate with the OpenAI services we'll use one of both approaches in this roadmap. Either provided using **Python packages** or making direct **REST API** calls. Both approaches have their own benefits.\n",
    "\n",
    "• The **Python package** provides a more seamless integration for Python-based applications\n",
    "\n",
    "• The **REST API** offers flexibility for integration across various platforms and programming languages"
   ]
  },
  {
   "cell_type": "markdown",
   "metadata": {},
   "source": [
    "# Table of Contents\n",
    "\n",
    "1. [Call Azure OpenAI](#Call-Azure-OpenAI)\n",
    "    - [Python Package](#Python-Package)\n",
    "    - [REST API](#REST-API)"
   ]
  },
  {
   "cell_type": "markdown",
   "metadata": {},
   "source": [
    "# Call Azure OpenAI\n",
    "There are two ways you can call Azure OpenAI which are explained below.\n",
    "\n",
    "• Using **Python package**\n",
    "\n",
    "• Using **REST API**\n",
    "\n",
    "\n",
    "## Python Package\n",
    "When working within a Python environment, the Azure OpenAI Python package is convenient. It provides native functions that allow you to interact with the service without dealing with raw HTTP calls."
   ]
  },
  {
   "cell_type": "code",
   "execution_count": null,
   "metadata": {},
   "outputs": [],
   "source": [
    "import openai\n",
    "\n",
    "openai.api_type = \"azure\"\n",
    "openai.api_key = AZURE_OPENAI_API_KEY\n",
    "openai.api_base = AZURE_OPENAI_ENDPOINT\n",
    "openai.api_version = AZURE_OPENAI_VERSION # this may change in the future\n",
    "\n",
    "# Setting constant for text-davinci-003 model used, name of deployment in azure resource\n",
    "deployment_name = \"text-davinci-003\"\n",
    "\n",
    "\n",
    "prompt_i = 'Write a tagline for a barbershop: '\n",
    "response = openai.Completion.create(\n",
    "        engine = deployment_name,\n",
    "        prompt = prompt_i,\n",
    "        temperature = 0.1,\n",
    "        max_tokens = 50,\n",
    "        top_p = 1,\n",
    "        frequency_penalty = 0.0,\n",
    "        presence_penalty = 0.0\n",
    "    )\n",
    "\n",
    "print(response.choices[0].text)"
   ]
  },
  {
   "cell_type": "markdown",
   "metadata": {},
   "source": [
    "## REST API\n",
    "\n",
    "REST API calls are universal and can be implemented in any environment that supports HTTP requests. This approach provides the flexibility to integrate Azure OpenAI into any application, irrespective of the programming language or platform."
   ]
  },
  {
   "cell_type": "code",
   "execution_count": null,
   "metadata": {},
   "outputs": [],
   "source": [
    "import requests\n",
    "import json\n",
    "\n",
    "# Set the request parameters\n",
    "# Note: the endpoint is different for the Azure OpenAI API for REST API calls when compared to the OpenAI API\n",
    "url = f'{AZURE_OPENAI_ENDPOINT}openai/deployments/{deployment_name}/completions?api-version={AZURE_OPENAI_VERSION}'\n",
    "headers = {\n",
    "    'Content-Type': 'application/json',\n",
    "    'api-key': AZURE_OPENAI_API_KEY,\n",
    "}\n",
    "\n",
    "prompt = 'Write a tagline for an ice cream shop: '\n",
    "data = {\n",
    "    \"prompt\": prompt,\n",
    "    \"max_tokens\": 20,\n",
    "    \"temperature\": 0.1,\n",
    "    \"top_p\": 1,\n",
    "    \"frequency_penalty\": 0,\n",
    "    \"presence_penalty\": 0\n",
    "}\n",
    "\n",
    "# Call the API\n",
    "response = requests.post(url, headers=headers, data=json.dumps(data))\n",
    "\n",
    "# Print the returned text\n",
    "print(response.json()['choices'][0]['text'])"
   ]
  }
 ],
 "metadata": {
  "language_info": {
   "name": "python"
  },
  "orig_nbformat": 4
 },
 "nbformat": 4,
 "nbformat_minor": 2
}
