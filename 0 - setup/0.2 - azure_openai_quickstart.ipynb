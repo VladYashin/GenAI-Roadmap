{
 "cells": [
  {
   "cell_type": "markdown",
   "metadata": {},
   "source": [
    "# Azure OpenAI Quickstart\n",
    "\n",
    "To communicate with the OpenAI services we'll use one of both approaches in this roadmap. Either provided using **Python packages** or making direct **REST API** calls. Both approaches have their own benefits.\n",
    "\n",
    "• The **Python package** provides a more seamless integration for Python-based applications\n",
    "\n",
    "• The **REST API** offers flexibility for integration across various platforms and programming languages"
   ]
  },
  {
   "cell_type": "markdown",
   "metadata": {},
   "source": [
    "# Table of Contents\n",
    "\n",
    "1. [Call Azure OpenAI](#Call-Azure-OpenAI)\n",
    "    - [Python Package](#Python-Package)\n",
    "    - [REST API](#REST-API)"
   ]
  },
  {
   "cell_type": "markdown",
   "metadata": {},
   "source": [
    "# Call Azure OpenAI\n",
    "There are two ways you can call Azure OpenAI which are explained below.\n",
    "\n",
    "• Using **Python package**\n",
    "\n",
    "• Using **REST API**\n",
    "\n",
    "\n",
    "## Python Package\n",
    "When working within a Python environment, the Azure OpenAI Python package is convenient. It provides native functions that allow you to interact with the service without dealing with raw HTTP calls."
   ]
  },
  {
   "cell_type": "code",
   "execution_count": 1,
   "metadata": {},
   "outputs": [
    {
     "name": "stdout",
     "output_type": "stream",
     "text": [
      "\n",
      "\n",
      "1. \"Pigeons, Perfectly Packaged!\" \n",
      "2. \"Your Pigeon Paradise!\" \n",
      "3. \"Pigeon Perfection!\"\n"
     ]
    }
   ],
   "source": [
    "import openai\n",
    "import os\n",
    "from dotenv import load_dotenv\n",
    "\n",
    "# Load environment variables from the .env file\n",
    "load_dotenv()\n",
    "\n",
    "# Use environmental variables stored in your .env file.\n",
    "openai.api_type = os.getenv(\"AZURE_OPENAI_TYPE\")\n",
    "openai.api_key = os.getenv(\"AZURE_OPENAI_API_KEY\")\n",
    "openai.api_base = os.getenv(\"AZURE_OPENAI_ENDPOINT\")\n",
    "openai.api_version = os.getenv(\"AZURE_OPENAI_VERSION\")\n",
    "\n",
    "deployment_name = os.getenv(\"AZURE_OPENAI_DEPLOYMENT_NAME\")\n",
    "\n",
    "\n",
    "prompt_i = 'Suggest 3 punchy taglines for a pet shop (for pigeons): '\n",
    "response = openai.Completion.create(\n",
    "        engine = deployment_name,\n",
    "        prompt = prompt_i,\n",
    "        temperature = 0.5,\n",
    "        max_tokens = 150\n",
    "    )\n",
    "\n",
    "print(response.choices[0].text)"
   ]
  },
  {
   "cell_type": "markdown",
   "metadata": {},
   "source": [
    "## REST API\n",
    "\n",
    "REST API calls are universal and can be implemented in any environment that supports HTTP requests. This approach provides the flexibility to integrate Azure OpenAI into any application, irrespective of the programming language or platform."
   ]
  },
  {
   "cell_type": "code",
   "execution_count": 2,
   "metadata": {},
   "outputs": [
    {
     "name": "stdout",
     "output_type": "stream",
     "text": [
      "\n",
      "\n",
      "1. \"Sharp cuts, sharp minds.\" \n",
      "2. \"The perfect cut for the perfect you.\" \n",
      "3. \"The barber of your dreams.\"\n"
     ]
    }
   ],
   "source": [
    "import requests\n",
    "import json\n",
    "\n",
    "# Access environment variables\n",
    "AZURE_OPENAI_API_KEY = os.environ.get('AZURE_OPENAI_API_KEY')\n",
    "AZURE_OPENAI_ENDPOINT = os.environ.get('AZURE_OPENAI_ENDPOINT')\n",
    "AZURE_OPENAI_VERSION = os.environ.get('AZURE_OPENAI_VERSION')\n",
    "AZURE_OPENAI_DEPLOYMENT_NAME = os.environ.get('AZURE_OPENAI_DEPLOYMENT_NAME')\n",
    "\n",
    "\n",
    "# Set the request parameters\n",
    "# Note: the endpoint is different for the Azure OpenAI API for REST API calls when compared to the OpenAI API!\n",
    "url = f'{AZURE_OPENAI_ENDPOINT}/openai/deployments/{deployment_name}/completions?api-version={AZURE_OPENAI_VERSION}'\n",
    "headers = {\n",
    "    'Content-Type': 'application/json',\n",
    "    'api-key': AZURE_OPENAI_API_KEY,\n",
    "}\n",
    "\n",
    "prompt = 'Suggest 3 punchy taglines for a barber shop: '\n",
    "\n",
    "data = {\n",
    "    \"prompt\": prompt,\n",
    "    \"max_tokens\": 150,\n",
    "    \"temperature\": 0.5\n",
    "}\n",
    "\n",
    "# Call the API\n",
    "response = requests.post(url, headers=headers, data=json.dumps(data))\n",
    "\n",
    "# Print the returned text\n",
    "print(response.json()['choices'][0]['text'])"
   ]
  },
  {
   "cell_type": "code",
   "execution_count": null,
   "metadata": {},
   "outputs": [],
   "source": []
  }
 ],
 "metadata": {
  "kernelspec": {
   "display_name": ".venv",
   "language": "python",
   "name": "python3"
  },
  "language_info": {
   "codemirror_mode": {
    "name": "ipython",
    "version": 3
   },
   "file_extension": ".py",
   "mimetype": "text/x-python",
   "name": "python",
   "nbconvert_exporter": "python",
   "pygments_lexer": "ipython3",
   "version": "3.11.3"
  },
  "orig_nbformat": 4
 },
 "nbformat": 4,
 "nbformat_minor": 2
}
