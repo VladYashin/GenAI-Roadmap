{
 "cells": [
  {
   "cell_type": "markdown",
   "metadata": {},
   "source": [
    "# Setup Environmental Variables\n",
    "\n",
    "To communicate with many of the services in this roadmap we will be using either provided **Python packages** or making direct **REST API** calls. Both approaches have their own benefits.\n",
    "\n",
    "• The **Python package** provides a more seamless integration for Python-based applications\n",
    "\n",
    "• The **REST API** offers flexibility for integration across various platforms and programming languages\n"
   ]
  },
  {
   "cell_type": "markdown",
   "metadata": {},
   "source": [
    "# Table of Contents\n",
    "\n",
    "1. [Set Up](#Set-Up)\n",
    "    - [Retrieve Key and Endpoint](#Retrieve-Key-and-Endpoint)\n",
    "2. [Environment Variables](#Environment-Variables)\n",
    "3. [Call Azure OpenAI](#Call-Azure-OpenAI)\n",
    "    - [Python Package](#Python-Package)\n",
    "    - [REST API](#REST-API)"
   ]
  },
  {
   "cell_type": "markdown",
   "metadata": {},
   "source": [
    "# Set Up\n",
    "\n",
    "## Retrieve Key and Endpoint\n",
    "\n",
    "Before making a call to Azure OpenAI, ensure you have the following essential details:\n",
    "\n",
    "| Variable Name     | Description | \n",
    "|--------------------|-------------| \n",
    "| `ENDPOINT`        | Can be located in the *Keys & Endpoint* section when examining your resource from the Azure portal. Also found in Azure OpenAI Studio > Playground > Code View. | \n",
    "| `API-KEY`         | Available in the *Keys & Endpoint* section of the Azure portal. You can choose either `KEY1` or `KEY2`. | \n",
    "| `DEPLOYMENT-NAME` | Relates to the custom name you chose for your deployment when setting up a model. Found under *Resource Management > Deployments* in the Azure portal or alternatively under *Management > Deployments* in Azure OpenAI Studio. | \n",
    "\n",
    "**Note:** Visit your resource on the Azure portal. The Endpoint and Keys can be spotted in the *Resource Management* section. Duplicate your endpoint and access key as you'll necessitate both for verifying your API calls. Using either `KEY1` or `KEY2` is acceptable. The provision of two keys ensures a secure key rotation without service disruption."
   ]
  },
  {
   "cell_type": "markdown",
   "metadata": {},
   "source": [
    "# Environment Variables\n",
    "\n",
    "It's advised to create and assign persistent environment variables for your key and endpoint to safeguard sensitive data and ease the call-making process.\n",
    "\n",
    "#### Why environmental variables are important?\n",
    "\n",
    "• Environment variables are crucial for managing configuration settings and parameters.\n",
    "\n",
    "• They provide a standardized way to store and access information like API keys, database credentials, and system paths.\n",
    "\n",
    "• Environment variables enhance security by keeping sensitive information separate from the application code.\n",
    "\n",
    "• They enable easy configuration changes without modifying the source code, simplifying maintenance and updates.\n",
    "\n",
    "• Environment variables facilitate portability, allowing applications to run seamlessly across different environments.\n",
    "\n",
    "• Environment variables assist in the separation of concerns, ensuring that application logic is decoupled from configuration details.\n",
    "\n",
    "-----\n",
    "\n",
    "**<font color=\"red\">IMPORTANT:</font>** Please remove any API keys or other sensitive information before deploying or sharing. NEVER expose your API keys in real applications."
   ]
  },
  {
   "cell_type": "code",
   "execution_count": 1,
   "metadata": {},
   "outputs": [
    {
     "name": "stdout",
     "output_type": "stream",
     "text": [
      "Azure OpenAI API Key: None\n",
      "Azure OpenAI Endpoint: None\n",
      "Azure OpenAI Version: 2022-12-01\n"
     ]
    }
   ],
   "source": [
    "import os\n",
    "from dotenv import load_dotenv\n",
    "\n",
    "# Load environment variables from .env file\n",
    "dotenv_path = os.path.join(os.path.dirname(os.getcwd()), '.env')  # Assumes .env is in the parent directory of your notebook\n",
    "load_dotenv(dotenv_path)\n",
    "\n",
    "# Access environment variables\n",
    "AZURE_OPENAI_API_KEY = os.environ.get('AZURE_OPENAI_KEY')\n",
    "AZURE_OPENAI_ENDPOINT = os.environ.get('AZURE_OPENAI_ENDPOINT')\n",
    "AZURE_OPENAI_VERSION = \"2022-12-01\" # this may change in the future\n",
    "\n",
    "# For testing purposes. Remove this before production/sharing\n",
    "print(f'Azure OpenAI API Key: {AZURE_OPENAI_API_KEY}')\n",
    "print(f'Azure OpenAI Endpoint: {AZURE_OPENAI_ENDPOINT}')\n",
    "print(f'Azure OpenAI Version: {AZURE_OPENAI_VERSION}')"
   ]
  },
  {
   "cell_type": "markdown",
   "metadata": {},
   "source": [
    "# Call Azure OpenAI\n",
    "There are two ways you can call Azure OpenAI which are explained below.\n",
    "\n",
    "• Using **Python package**\n",
    "\n",
    "• Using **REST API**\n",
    "\n",
    "\n",
    "## Python Package\n",
    "When working within a Python environment, the Azure OpenAI Python package is convenient. It provides native functions that allow you to interact with the service without dealing with raw HTTP calls."
   ]
  },
  {
   "cell_type": "code",
   "execution_count": 2,
   "metadata": {},
   "outputs": [
    {
     "name": "stdout",
     "output_type": "stream",
     "text": [
      "\n",
      "\n",
      "\"Cool down with our delicious treats!\"\n"
     ]
    }
   ],
   "source": [
    "import openai\n",
    "\n",
    "openai.api_type = \"azure\"\n",
    "openai.api_key = AZURE_OPENAI_API_KEY\n",
    "openai.api_base = AZURE_OPENAI_ENDPOINT\n",
    "openai.api_version = AZURE_OPENAI_VERSION # this may change in the future\n",
    "\n",
    "# Setting constant for text-davinci-003 model used, name of deployment in azure resource\n",
    "deployment_name = \"text-davinci-003\"\n",
    "\n",
    "\n",
    "prompt_i = 'Write a tagline for an ice cream shop: '\n",
    "response = openai.Completion.create(\n",
    "        engine = deployment_name,\n",
    "        prompt = prompt_i,\n",
    "        temperature = 0.1,\n",
    "        max_tokens = 50,\n",
    "        top_p = 1,\n",
    "        frequency_penalty = 0.0,\n",
    "        presence_penalty = 0.0\n",
    "    )\n",
    "\n",
    "print(response.choices[0].text)"
   ]
  },
  {
   "cell_type": "markdown",
   "metadata": {},
   "source": [
    "## REST API\n",
    "\n",
    "REST API calls are universal and can be implemented in any environment that supports HTTP requests. This approach provides the flexibility to integrate Azure OpenAI into any application, irrespective of the programming language or platform.\n"
   ]
  },
  {
   "cell_type": "code",
   "execution_count": 3,
   "metadata": {},
   "outputs": [
    {
     "name": "stdout",
     "output_type": "stream",
     "text": [
      "\n",
      "\n",
      "\"Cool off with our delicious treats!\"\n"
     ]
    }
   ],
   "source": [
    "import requests\n",
    "import json\n",
    "\n",
    "# Set the request parameters\n",
    "# Note: the endpoint is different for the Azure OpenAI API for REST API calls when compared to the OpenAI API\n",
    "url = f'{AZURE_OPENAI_ENDPOINT}openai/deployments/{deployment_name}/completions?api-version={AZURE_OPENAI_VERSION}'\n",
    "headers = {\n",
    "    'Content-Type': 'application/json',\n",
    "    'api-key': AZURE_OPENAI_API_KEY,\n",
    "}\n",
    "\n",
    "prompt = 'Write a tagline for an ice cream shop: '\n",
    "data = {\n",
    "    \"prompt\": prompt,\n",
    "    \"max_tokens\": 20,\n",
    "    \"temperature\": 0.1,\n",
    "    \"top_p\": 1,\n",
    "    \"frequency_penalty\": 0,\n",
    "    \"presence_penalty\": 0\n",
    "}\n",
    "\n",
    "# Call the API\n",
    "response = requests.post(url, headers=headers, data=json.dumps(data))\n",
    "\n",
    "# Print the returned text\n",
    "print(response.json()['choices'][0]['text'])"
   ]
  }
 ],
 "metadata": {
  "kernelspec": {
   "display_name": "myenv",
   "language": "python",
   "name": "python3"
  },
  "language_info": {
   "codemirror_mode": {
    "name": "ipython",
    "version": 3
   },
   "file_extension": ".py",
   "mimetype": "text/x-python",
   "name": "python",
   "nbconvert_exporter": "python",
   "pygments_lexer": "ipython3",
   "version": "3.11.3"
  },
  "orig_nbformat": 4
 },
 "nbformat": 4,
 "nbformat_minor": 2
}
